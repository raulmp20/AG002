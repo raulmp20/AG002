{
  "cells": [
    {
      "cell_type": "markdown",
      "metadata": {
        "id": "Zo2JiEtkzvQL"
      },
      "source": [
        "# Exercício sobre otimização hiperparamétrica para regressão de preços de residências usando redes neurais densas (DNNs)\n",
        "\n",
        "Neste exercício, você irá encontrar o melhor conjunto de hiperparâmetros de um modelo para **regressão**.\n",
        "\n",
        "Leia atentamente o conteúdo de todas as células e sigas as intruções abaixo.\n",
        "\n",
        "Ao final, responda:\n",
        "\n",
        "+ Qual o melhor conjunto de hiperparâmetros encontrado?\n",
        "+ Esse resultado é melhor do que aquele que encontramos em sala de aula?\n",
        "\n",
        "(**Justifique todas as suas respostas**).\n",
        "\n",
        "Respostas:\n",
        "\n",
        "1) O otimizador ideal encontrado é o adam.\n",
        "\n",
        "2) O resultado encontrado neste exercício é melhor, pois ele obteve um menor erro de validação, que foi o criterio escolhido para comparação. Portanto, ele generaliza melhor do que o que encontramos em sala de aula."
      ]
    },
    {
      "cell_type": "markdown",
      "metadata": {
        "id": "z56YN3JZ0Duh"
      },
      "source": [
        "## Importe as bibliotecas\n",
        "\n",
        "Execute a célula abaixo."
      ]
    },
    {
      "cell_type": "code",
      "execution_count": 1,
      "metadata": {
        "colab": {
          "base_uri": "https://localhost:8080/"
        },
        "id": "YfPnR74Gzc_q",
        "outputId": "20557bb0-cacc-46cd-8e85-b7193709c5ab"
      },
      "outputs": [
        {
          "output_type": "stream",
          "name": "stdout",
          "text": [
            "Collecting keras-tuner\n",
            "  Downloading keras_tuner-1.4.7-py3-none-any.whl.metadata (5.4 kB)\n",
            "Requirement already satisfied: keras in /usr/local/lib/python3.11/dist-packages (from keras-tuner) (3.8.0)\n",
            "Requirement already satisfied: packaging in /usr/local/lib/python3.11/dist-packages (from keras-tuner) (24.2)\n",
            "Requirement already satisfied: requests in /usr/local/lib/python3.11/dist-packages (from keras-tuner) (2.32.3)\n",
            "Collecting kt-legacy (from keras-tuner)\n",
            "  Downloading kt_legacy-1.0.5-py3-none-any.whl.metadata (221 bytes)\n",
            "Requirement already satisfied: absl-py in /usr/local/lib/python3.11/dist-packages (from keras->keras-tuner) (1.4.0)\n",
            "Requirement already satisfied: numpy in /usr/local/lib/python3.11/dist-packages (from keras->keras-tuner) (2.0.2)\n",
            "Requirement already satisfied: rich in /usr/local/lib/python3.11/dist-packages (from keras->keras-tuner) (13.9.4)\n",
            "Requirement already satisfied: namex in /usr/local/lib/python3.11/dist-packages (from keras->keras-tuner) (0.0.9)\n",
            "Requirement already satisfied: h5py in /usr/local/lib/python3.11/dist-packages (from keras->keras-tuner) (3.13.0)\n",
            "Requirement already satisfied: optree in /usr/local/lib/python3.11/dist-packages (from keras->keras-tuner) (0.15.0)\n",
            "Requirement already satisfied: ml-dtypes in /usr/local/lib/python3.11/dist-packages (from keras->keras-tuner) (0.4.1)\n",
            "Requirement already satisfied: charset-normalizer<4,>=2 in /usr/local/lib/python3.11/dist-packages (from requests->keras-tuner) (3.4.1)\n",
            "Requirement already satisfied: idna<4,>=2.5 in /usr/local/lib/python3.11/dist-packages (from requests->keras-tuner) (3.10)\n",
            "Requirement already satisfied: urllib3<3,>=1.21.1 in /usr/local/lib/python3.11/dist-packages (from requests->keras-tuner) (2.4.0)\n",
            "Requirement already satisfied: certifi>=2017.4.17 in /usr/local/lib/python3.11/dist-packages (from requests->keras-tuner) (2025.4.26)\n",
            "Requirement already satisfied: typing-extensions>=4.5.0 in /usr/local/lib/python3.11/dist-packages (from optree->keras->keras-tuner) (4.13.2)\n",
            "Requirement already satisfied: markdown-it-py>=2.2.0 in /usr/local/lib/python3.11/dist-packages (from rich->keras->keras-tuner) (3.0.0)\n",
            "Requirement already satisfied: pygments<3.0.0,>=2.13.0 in /usr/local/lib/python3.11/dist-packages (from rich->keras->keras-tuner) (2.19.1)\n",
            "Requirement already satisfied: mdurl~=0.1 in /usr/local/lib/python3.11/dist-packages (from markdown-it-py>=2.2.0->rich->keras->keras-tuner) (0.1.2)\n",
            "Downloading keras_tuner-1.4.7-py3-none-any.whl (129 kB)\n",
            "\u001b[2K   \u001b[90m━━━━━━━━━━━━━━━━━━━━━━━━━━━━━━━━━━━━━━━━\u001b[0m \u001b[32m129.1/129.1 kB\u001b[0m \u001b[31m4.3 MB/s\u001b[0m eta \u001b[36m0:00:00\u001b[0m\n",
            "\u001b[?25hDownloading kt_legacy-1.0.5-py3-none-any.whl (9.6 kB)\n",
            "Installing collected packages: kt-legacy, keras-tuner\n",
            "Successfully installed keras-tuner-1.4.7 kt-legacy-1.0.5\n"
          ]
        }
      ],
      "source": [
        "import numpy as np\n",
        "import matplotlib.pyplot as plt\n",
        "import tensorflow as tf\n",
        "# Importamos a classe StandardScaler.\n",
        "from sklearn.preprocessing import StandardScaler\n",
        "\n",
        "# Instalando o KerasTuner.\n",
        "!pip install keras-tuner --upgrade\n",
        "\n",
        "# Importanda a biblioteca KerasTuner.\n",
        "import keras_tuner as kt"
      ]
    },
    {
      "cell_type": "markdown",
      "metadata": {
        "id": "xrGLDV6q0PCc"
      },
      "source": [
        "## Baixe a base de dados\n",
        "\n",
        "Execute a célula de código abaixo.\n",
        "\n",
        "### A base de dados\n",
        "\n",
        "A base de dados contém **informações do censo dos EUA relativos aos preços de residências** em diferentes locais nos subúrbios de Boston **no final dos anos 1970**.\n",
        "\n",
        "**A base possui 506 exemplos e 13 atributos numéricos** (atributos $x_i$ com $i$ variando de 1 a 13).\n",
        "\n",
        "O **décimo quarto atributo** (i.e., MEDV: Median value of owner-occupied homes in USD 1000's) é considerado como sendo o **rótulo**, ou seja, o valor que queremos predizer com o modelo.\n",
        "\n",
        "A descrição das informações contidas no banco de dados segue abaixo.\n",
        "\n",
        "| Attribute |                              Description                              |\n",
        "|:---------:|:---------------------------------------------------------------------:|\n",
        "|    CRIM   |                     per capita crime rate by town                     |\n",
        "|     ZN    |    proportion of residential land zoned for lots over 25,000 sq.ft.   |\n",
        "|   INDUS   |            proportion of non-retail business acres per town           |\n",
        "|    CHAS   | Charles River dummy variable (= 1 if tract bounds river; 0 otherwise) |\n",
        "|    NOX    |           nitric oxides concentration (parts per 10 million)          |\n",
        "|     RM    |                  average number of rooms per dwelling                 |\n",
        "|    AGE    |         proportion of owner-occupied units built prior to 1940        |\n",
        "|    DIS    |          weighted distances to five Boston employment centres         |\n",
        "|    RAD    |               index of accessibility to radial highways               |\n",
        "|    TAX    |                full-value property-tax rate per USD 10.000               |\n",
        "|  PTRATIO  |                      pupil-teacher ratio by town                      |\n",
        "|     B     |  1000(Bk - 0.63)^2 where Bk is the proportion of black people by town |\n",
        "|   LSTAT   |                     lower status of the population                    |\n",
        "|    MEDV   |            Median value of owner-occupied homes in USD 1000's            |\n",
        "\n",
        "\n",
        "### Objetivo\n",
        "\n",
        "O objetivo é encontrar um modelo de **regressão** que prediga o valor médio das casas naquela área usando os 13 atributos fornecidos."
      ]
    },
    {
      "cell_type": "code",
      "execution_count": 2,
      "metadata": {
        "colab": {
          "base_uri": "https://localhost:8080/"
        },
        "id": "Ib2Ihepx0N6h",
        "outputId": "4444b729-c3d0-4abd-d6b7-781aa4cb4676"
      },
      "outputs": [
        {
          "output_type": "stream",
          "name": "stdout",
          "text": [
            "Downloading data from https://storage.googleapis.com/tensorflow/tf-keras-datasets/boston_housing.npz\n",
            "\u001b[1m57026/57026\u001b[0m \u001b[32m━━━━━━━━━━━━━━━━━━━━\u001b[0m\u001b[37m\u001b[0m \u001b[1m0s\u001b[0m 0us/step\n"
          ]
        }
      ],
      "source": [
        "data = tf.keras.datasets.boston_housing\n",
        "\n",
        "(x_train, y_train), (x_test, y_test) = data.load_data()"
      ]
    },
    {
      "cell_type": "markdown",
      "metadata": {
        "id": "0-H0LwB_7von"
      },
      "source": [
        "### Pradronize os dados\n",
        "\n",
        "Execute a célula abaixo."
      ]
    },
    {
      "cell_type": "code",
      "execution_count": 3,
      "metadata": {
        "id": "uZrGVMsH0X3F"
      },
      "outputs": [],
      "source": [
        "# Instanciamos um objeto da classe StandardScaler.\n",
        "scaler = StandardScaler()\n",
        "\n",
        "# Calcula-se os parâmetros de padronização usando o conjunto de treinamento.\n",
        "scaler.fit(x_train)\n",
        "\n",
        "# Usamos o método `transform` para padronizar os atributos de treinamento e teste.\n",
        "x_train_std = scaler.transform(x_train)\n",
        "x_test_std = scaler.transform(x_test)"
      ]
    },
    {
      "cell_type": "markdown",
      "metadata": {
        "id": "RUNbBC_FgcWZ"
      },
      "source": [
        "## Encontre os melhores hiperparâmetros"
      ]
    },
    {
      "cell_type": "markdown",
      "metadata": {
        "id": "xFpK--7yynT1"
      },
      "source": [
        "### Defina a função de criação do modelo\n",
        "\n",
        "\n",
        "Modifique a função abaixo de forma que a busca aleatória teste combinações aleatórias dos seguintes hiperparâmetros e valores:\n",
        "\n",
        "1.   Número de camadas ocultas (`layers`): 1, 2 e 3.\n",
        "2.   Número de neurônios nas camadas ocultas (`units`): 5, 10, 15, 20 e 25.\n",
        "3.   Passo de aprendizagem do otmizador (`learning_rate`): 0.0003, 0.001 e 0.003.\n",
        "4.   Otimizador (`optimizer`): 'sgd' e 'adam'.\n",
        "5.   Função de ativação das camadas ocultas (`activation`): 'relu' e 'sigmoid'.\n",
        "\n",
        "**Observações**\n",
        "\n",
        "+ O keras tuner oferece várias classe para a variação dos hiperparâmetros, as quais podem ser acessadas em: https://keras.io/api/keras_tuner/hyperparameters/\n",
        "+ O parâmetro `name` de cada hiperparâmetro deve ser único conforme consta na documentação do keras tuner: `name: Must be unique for each HyperParameter instance in the search space.`. Acesse o link acima para ler a documentação.\n",
        "+ A busca deve demorar vários minutos, tenha paciência."
      ]
    },
    {
      "cell_type": "code",
      "execution_count": 7,
      "metadata": {
        "id": "qbvjlmNdhBn6"
      },
      "outputs": [],
      "source": [
        "def build_model(hp):\n",
        "\n",
        "  # Cria o modelo sequêncial.\n",
        "  model = tf.keras.Sequential()\n",
        "\n",
        "  # Adicionando a camada de entrada. Ela não possui pesos, apenas especifica as dimensões da entrada.\n",
        "  model.add(tf.keras.layers.Input(shape=(13,)))\n",
        "\n",
        "\n",
        "  # ADICIONE O SEU CÓDIGO AQUI.\n",
        "\n",
        "  # Hiperparâmetros variáveis:\n",
        "  num_layers = hp.Int('num_layers', min_value=1, max_value=3)\n",
        "  activation = hp.Choice('activation', values = ['relu', 'sigmoid'])\n",
        "\n",
        " # Adiciona camadas ocultas com unidades e ativação definidos\n",
        "  for i in range(num_layers):\n",
        "    units = hp.Choice(f'unit_layer_{i}', values = [5,10,15,20,25])\n",
        "    model.add(tf.keras.layers.Dense(units=units,activation=activation))\n",
        "\n",
        "  # Camada de saída\n",
        "  model.add(tf.keras.layers.Dense(1))\n",
        "\n",
        "  # Otimizador\n",
        "  optimizer_choice = hp.Choice('optimizer', values = ['adam', 'sgd'])\n",
        "  leaerning_rate = hp.Choice('learning_rate', values = [0.0003, 0.001, 0.003])\n",
        "\n",
        "  if optimizer_choice == 'adam':\n",
        "    optimizer = tf.keras.optimizers.Adam(learning_rate=leaerning_rate)\n",
        "  else:\n",
        "    optimizer = tf.keras.optimizers.SGD(learning_rate=leaerning_rate)\n",
        "\n",
        "\n",
        "  # Compila o modelo.\n",
        "  model.compile(optimizer=optimizer, loss='mse', metrics=['mae'])\n",
        "\n",
        "  # Retorna o modelo.\n",
        "  return model"
      ]
    },
    {
      "cell_type": "markdown",
      "metadata": {
        "id": "lsNpzZpeh2Hi"
      },
      "source": [
        "### Instancie o objeto de busca aleatória\n",
        "\n",
        "Execute as células abaixo."
      ]
    },
    {
      "cell_type": "code",
      "execution_count": 8,
      "metadata": {
        "id": "zufG9sUjh1xV"
      },
      "outputs": [],
      "source": [
        "# Instanciando um objeto da classe RandomSearch.\n",
        "tuner = kt.RandomSearch(\n",
        "    build_model,\n",
        "    objective='val_loss'\n",
        ")"
      ]
    },
    {
      "cell_type": "markdown",
      "metadata": {
        "id": "wN6Ci84OiFaZ"
      },
      "source": [
        "#### Faça a busca pelo melhor modelo.\n",
        "\n",
        "Execute as células abaixo."
      ]
    },
    {
      "cell_type": "code",
      "execution_count": 9,
      "metadata": {
        "colab": {
          "base_uri": "https://localhost:8080/"
        },
        "id": "WnkdoSzLiJUY",
        "outputId": "593dd61c-3a9c-493b-f832-a100a7c07f2d"
      },
      "outputs": [
        {
          "output_type": "stream",
          "name": "stdout",
          "text": [
            "Trial 10 Complete [00h 01m 42s]\n",
            "val_loss: 22.734281539916992\n",
            "\n",
            "Best val_loss So Far: 14.563196182250977\n",
            "Total elapsed time: 00h 17m 36s\n"
          ]
        }
      ],
      "source": [
        "tuner.search(\n",
        "    x_train_std, y_train,\n",
        "    epochs=500,\n",
        "    validation_data=(x_test_std, y_test)\n",
        ")"
      ]
    },
    {
      "cell_type": "markdown",
      "metadata": {
        "id": "BAW8ju2Jlk8I"
      },
      "source": [
        "Obtendo os melhores hiperparâmetros.\n",
        "\n",
        "**Observação**\n",
        "+ Você deverá alterar o código abaixo dependendo de como você implementou a variação dos hiperparâmetros."
      ]
    },
    {
      "cell_type": "code",
      "execution_count": 12,
      "metadata": {
        "colab": {
          "base_uri": "https://localhost:8080/"
        },
        "id": "xRAptdj9kaa9",
        "outputId": "785a22c8-136e-41e1-e0e6-3ce55e35d16b"
      },
      "outputs": [
        {
          "output_type": "stream",
          "name": "stdout",
          "text": [
            "A pesquisa de hiperparâmetros foi concluída.\n",
            "O número ideal de camadas ocultas é 2.\n",
            "O número ideal de neurônios na camada oculta # 1 é 25.\n",
            "O número ideal de neurônios na camada oculta # 2 é 5.\n",
            "O valor ideal do passo de aprendizagem é o 0.003.\n",
            "O otimizador ideal é adam.\n",
            "A função de ativação ideal é a relu.\n"
          ]
        }
      ],
      "source": [
        "best_hps  = tuner.get_best_hyperparameters(1)[0]\n",
        "\n",
        "print('A pesquisa de hiperparâmetros foi concluída.')\n",
        "print(f\"\"\"O número ideal de camadas ocultas é {best_hps.get('num_layers')}.\"\"\")\n",
        "for i in range(best_hps.get('num_layers')):\n",
        "    print(f\"\"\"O número ideal de neurônios na camada oculta # {i+1} é {best_hps.get('unit_layer_'+str(i))}.\"\"\")\n",
        "print(f\"\"\"O valor ideal do passo de aprendizagem é o {best_hps.get('learning_rate')}.\"\"\")\n",
        "print(f\"\"\"O otimizador ideal é {best_hps.get('optimizer')}.\"\"\")\n",
        "print(f\"\"\"A função de ativação ideal é a {best_hps.get('activation')}.\"\"\")"
      ]
    },
    {
      "cell_type": "markdown",
      "metadata": {
        "id": "hl9aW5--ji1l"
      },
      "source": [
        "Imprimindo o resumo dos resultados da busca."
      ]
    },
    {
      "cell_type": "code",
      "execution_count": 13,
      "metadata": {
        "colab": {
          "base_uri": "https://localhost:8080/"
        },
        "id": "zcF6Ogb_mtYW",
        "outputId": "427e6aa6-bcd9-41b5-96e0-356ac017cf36"
      },
      "outputs": [
        {
          "output_type": "stream",
          "name": "stdout",
          "text": [
            "Results summary\n",
            "Results in ./untitled_project\n",
            "Showing 10 best trials\n",
            "Objective(name=\"val_loss\", direction=\"min\")\n",
            "\n",
            "Trial 03 summary\n",
            "Hyperparameters:\n",
            "num_layers: 2\n",
            "activation: relu\n",
            "unit_layer_0: 25\n",
            "optimizer: adam\n",
            "learning_rate: 0.003\n",
            "unit_layer_1: 5\n",
            "Score: 14.563196182250977\n",
            "\n",
            "Trial 06 summary\n",
            "Hyperparameters:\n",
            "num_layers: 1\n",
            "activation: relu\n",
            "unit_layer_0: 20\n",
            "optimizer: adam\n",
            "learning_rate: 0.001\n",
            "unit_layer_1: 20\n",
            "unit_layer_2: 20\n",
            "Score: 17.77898406982422\n",
            "\n",
            "Trial 08 summary\n",
            "Hyperparameters:\n",
            "num_layers: 2\n",
            "activation: relu\n",
            "unit_layer_0: 15\n",
            "optimizer: adam\n",
            "learning_rate: 0.0003\n",
            "unit_layer_1: 15\n",
            "unit_layer_2: 20\n",
            "Score: 21.053327560424805\n",
            "\n",
            "Trial 01 summary\n",
            "Hyperparameters:\n",
            "num_layers: 2\n",
            "activation: sigmoid\n",
            "unit_layer_0: 15\n",
            "optimizer: sgd\n",
            "learning_rate: 0.001\n",
            "unit_layer_1: 10\n",
            "Score: 22.623092651367188\n",
            "\n",
            "Trial 09 summary\n",
            "Hyperparameters:\n",
            "num_layers: 2\n",
            "activation: sigmoid\n",
            "unit_layer_0: 20\n",
            "optimizer: sgd\n",
            "learning_rate: 0.0003\n",
            "unit_layer_1: 25\n",
            "unit_layer_2: 20\n",
            "Score: 22.734281539916992\n",
            "\n",
            "Trial 05 summary\n",
            "Hyperparameters:\n",
            "num_layers: 1\n",
            "activation: relu\n",
            "unit_layer_0: 25\n",
            "optimizer: adam\n",
            "learning_rate: 0.0003\n",
            "unit_layer_1: 5\n",
            "unit_layer_2: 25\n",
            "Score: 22.931821823120117\n",
            "\n",
            "Trial 02 summary\n",
            "Hyperparameters:\n",
            "num_layers: 1\n",
            "activation: sigmoid\n",
            "unit_layer_0: 15\n",
            "optimizer: sgd\n",
            "learning_rate: 0.0003\n",
            "unit_layer_1: 20\n",
            "Score: 22.973417282104492\n",
            "\n",
            "Trial 00 summary\n",
            "Hyperparameters:\n",
            "num_layers: 2\n",
            "activation: relu\n",
            "unit_layer_0: 5\n",
            "optimizer: adam\n",
            "learning_rate: 0.0003\n",
            "unit_layer_1: 5\n",
            "Score: 27.473047256469727\n",
            "\n",
            "Trial 07 summary\n",
            "Hyperparameters:\n",
            "num_layers: 1\n",
            "activation: sigmoid\n",
            "unit_layer_0: 25\n",
            "optimizer: adam\n",
            "learning_rate: 0.0003\n",
            "unit_layer_1: 10\n",
            "unit_layer_2: 15\n",
            "Score: 28.766382217407227\n",
            "\n",
            "Trial 04 summary\n",
            "Hyperparameters:\n",
            "num_layers: 3\n",
            "activation: sigmoid\n",
            "unit_layer_0: 20\n",
            "optimizer: adam\n",
            "learning_rate: 0.0003\n",
            "unit_layer_1: 20\n",
            "unit_layer_2: 5\n",
            "Score: 248.14736938476562\n"
          ]
        }
      ],
      "source": [
        "tuner.results_summary()"
      ]
    },
    {
      "cell_type": "markdown",
      "metadata": {
        "id": "e25O2H-X9rIR"
      },
      "source": [
        "## Obtenha e construa o melhor modelo\n",
        "\n",
        "Execute a célula abaixo."
      ]
    },
    {
      "cell_type": "code",
      "execution_count": 15,
      "metadata": {
        "colab": {
          "base_uri": "https://localhost:8080/",
          "height": 225
        },
        "id": "So-OnPO89qgA",
        "outputId": "d4eb5c04-7514-4027-e0e0-bc2417591f8b"
      },
      "outputs": [
        {
          "output_type": "display_data",
          "data": {
            "text/plain": [
              "\u001b[1mModel: \"sequential\"\u001b[0m\n"
            ],
            "text/html": [
              "<pre style=\"white-space:pre;overflow-x:auto;line-height:normal;font-family:Menlo,'DejaVu Sans Mono',consolas,'Courier New',monospace\"><span style=\"font-weight: bold\">Model: \"sequential\"</span>\n",
              "</pre>\n"
            ]
          },
          "metadata": {}
        },
        {
          "output_type": "display_data",
          "data": {
            "text/plain": [
              "┏━━━━━━━━━━━━━━━━━━━━━━━━━━━━━━━━━┳━━━━━━━━━━━━━━━━━━━━━━━━┳━━━━━━━━━━━━━━━┓\n",
              "┃\u001b[1m \u001b[0m\u001b[1mLayer (type)                   \u001b[0m\u001b[1m \u001b[0m┃\u001b[1m \u001b[0m\u001b[1mOutput Shape          \u001b[0m\u001b[1m \u001b[0m┃\u001b[1m \u001b[0m\u001b[1m      Param #\u001b[0m\u001b[1m \u001b[0m┃\n",
              "┡━━━━━━━━━━━━━━━━━━━━━━━━━━━━━━━━━╇━━━━━━━━━━━━━━━━━━━━━━━━╇━━━━━━━━━━━━━━━┩\n",
              "│ dense (\u001b[38;5;33mDense\u001b[0m)                   │ (\u001b[38;5;45mNone\u001b[0m, \u001b[38;5;34m25\u001b[0m)             │           \u001b[38;5;34m350\u001b[0m │\n",
              "├─────────────────────────────────┼────────────────────────┼───────────────┤\n",
              "│ dense_1 (\u001b[38;5;33mDense\u001b[0m)                 │ (\u001b[38;5;45mNone\u001b[0m, \u001b[38;5;34m5\u001b[0m)              │           \u001b[38;5;34m130\u001b[0m │\n",
              "├─────────────────────────────────┼────────────────────────┼───────────────┤\n",
              "│ dense_2 (\u001b[38;5;33mDense\u001b[0m)                 │ (\u001b[38;5;45mNone\u001b[0m, \u001b[38;5;34m1\u001b[0m)              │             \u001b[38;5;34m6\u001b[0m │\n",
              "└─────────────────────────────────┴────────────────────────┴───────────────┘\n"
            ],
            "text/html": [
              "<pre style=\"white-space:pre;overflow-x:auto;line-height:normal;font-family:Menlo,'DejaVu Sans Mono',consolas,'Courier New',monospace\">┏━━━━━━━━━━━━━━━━━━━━━━━━━━━━━━━━━┳━━━━━━━━━━━━━━━━━━━━━━━━┳━━━━━━━━━━━━━━━┓\n",
              "┃<span style=\"font-weight: bold\"> Layer (type)                    </span>┃<span style=\"font-weight: bold\"> Output Shape           </span>┃<span style=\"font-weight: bold\">       Param # </span>┃\n",
              "┡━━━━━━━━━━━━━━━━━━━━━━━━━━━━━━━━━╇━━━━━━━━━━━━━━━━━━━━━━━━╇━━━━━━━━━━━━━━━┩\n",
              "│ dense (<span style=\"color: #0087ff; text-decoration-color: #0087ff\">Dense</span>)                   │ (<span style=\"color: #00d7ff; text-decoration-color: #00d7ff\">None</span>, <span style=\"color: #00af00; text-decoration-color: #00af00\">25</span>)             │           <span style=\"color: #00af00; text-decoration-color: #00af00\">350</span> │\n",
              "├─────────────────────────────────┼────────────────────────┼───────────────┤\n",
              "│ dense_1 (<span style=\"color: #0087ff; text-decoration-color: #0087ff\">Dense</span>)                 │ (<span style=\"color: #00d7ff; text-decoration-color: #00d7ff\">None</span>, <span style=\"color: #00af00; text-decoration-color: #00af00\">5</span>)              │           <span style=\"color: #00af00; text-decoration-color: #00af00\">130</span> │\n",
              "├─────────────────────────────────┼────────────────────────┼───────────────┤\n",
              "│ dense_2 (<span style=\"color: #0087ff; text-decoration-color: #0087ff\">Dense</span>)                 │ (<span style=\"color: #00d7ff; text-decoration-color: #00d7ff\">None</span>, <span style=\"color: #00af00; text-decoration-color: #00af00\">1</span>)              │             <span style=\"color: #00af00; text-decoration-color: #00af00\">6</span> │\n",
              "└─────────────────────────────────┴────────────────────────┴───────────────┘\n",
              "</pre>\n"
            ]
          },
          "metadata": {}
        },
        {
          "output_type": "display_data",
          "data": {
            "text/plain": [
              "\u001b[1m Total params: \u001b[0m\u001b[38;5;34m486\u001b[0m (1.90 KB)\n"
            ],
            "text/html": [
              "<pre style=\"white-space:pre;overflow-x:auto;line-height:normal;font-family:Menlo,'DejaVu Sans Mono',consolas,'Courier New',monospace\"><span style=\"font-weight: bold\"> Total params: </span><span style=\"color: #00af00; text-decoration-color: #00af00\">486</span> (1.90 KB)\n",
              "</pre>\n"
            ]
          },
          "metadata": {}
        },
        {
          "output_type": "display_data",
          "data": {
            "text/plain": [
              "\u001b[1m Trainable params: \u001b[0m\u001b[38;5;34m486\u001b[0m (1.90 KB)\n"
            ],
            "text/html": [
              "<pre style=\"white-space:pre;overflow-x:auto;line-height:normal;font-family:Menlo,'DejaVu Sans Mono',consolas,'Courier New',monospace\"><span style=\"font-weight: bold\"> Trainable params: </span><span style=\"color: #00af00; text-decoration-color: #00af00\">486</span> (1.90 KB)\n",
              "</pre>\n"
            ]
          },
          "metadata": {}
        },
        {
          "output_type": "display_data",
          "data": {
            "text/plain": [
              "\u001b[1m Non-trainable params: \u001b[0m\u001b[38;5;34m0\u001b[0m (0.00 B)\n"
            ],
            "text/html": [
              "<pre style=\"white-space:pre;overflow-x:auto;line-height:normal;font-family:Menlo,'DejaVu Sans Mono',consolas,'Courier New',monospace\"><span style=\"font-weight: bold\"> Non-trainable params: </span><span style=\"color: #00af00; text-decoration-color: #00af00\">0</span> (0.00 B)\n",
              "</pre>\n"
            ]
          },
          "metadata": {}
        }
      ],
      "source": [
        "best_model = tuner.get_best_models(1)[0]\n",
        "\n",
        "best_model.summary()"
      ]
    },
    {
      "cell_type": "markdown",
      "metadata": {
        "id": "JusxjdkP3A7C"
      },
      "source": [
        "## Avalie o melhor modelo nos conjuntos de treinamento e teste.\n",
        "\n",
        "Execute as células abaixo."
      ]
    },
    {
      "cell_type": "code",
      "execution_count": 16,
      "metadata": {
        "colab": {
          "base_uri": "https://localhost:8080/"
        },
        "id": "vi3sMlGZ26Mj",
        "outputId": "5e212239-bf16-46d8-afe8-e3ed39ba51b3"
      },
      "outputs": [
        {
          "output_type": "stream",
          "name": "stdout",
          "text": [
            "\u001b[1m13/13\u001b[0m \u001b[32m━━━━━━━━━━━━━━━━━━━━\u001b[0m\u001b[37m\u001b[0m \u001b[1m0s\u001b[0m 4ms/step - loss: 3.5641 - mae: 1.4229  \n",
            "MSE no conjunto de treinamento: 4.3753\n",
            "MAE no conjunto de treinamento: 1.5215\n"
          ]
        }
      ],
      "source": [
        "train_eval = best_model.evaluate(x_train_std, y_train)\n",
        "\n",
        "print (\"MSE no conjunto de treinamento: {:.5}\".format(train_eval[0]))\n",
        "print (\"MAE no conjunto de treinamento: {:.5}\".format(train_eval[1]))"
      ]
    },
    {
      "cell_type": "code",
      "execution_count": 17,
      "metadata": {
        "colab": {
          "base_uri": "https://localhost:8080/"
        },
        "id": "9DIrm-LY2-pU",
        "outputId": "65673f00-3842-44ef-8847-1ea0eba1d799"
      },
      "outputs": [
        {
          "output_type": "stream",
          "name": "stdout",
          "text": [
            "\u001b[1m4/4\u001b[0m \u001b[32m━━━━━━━━━━━━━━━━━━━━\u001b[0m\u001b[37m\u001b[0m \u001b[1m0s\u001b[0m 10ms/step - loss: 10.5638 - mae: 2.2887\n",
            "MSE no conjunto de teste: 14.563\n",
            "MAE no conjunto de teste: 2.5355\n"
          ]
        }
      ],
      "source": [
        "test_eval = best_model.evaluate(x_test_std, y_test)\n",
        "\n",
        "print (\"MSE no conjunto de teste: {:.5}\".format(test_eval[0]))\n",
        "print (\"MAE no conjunto de teste: {:.5}\".format(test_eval[1]))"
      ]
    }
  ],
  "metadata": {
    "colab": {
      "provenance": []
    },
    "kernelspec": {
      "display_name": "Python 3 (ipykernel)",
      "language": "python",
      "name": "python3"
    },
    "language_info": {
      "codemirror_mode": {
        "name": "ipython",
        "version": 3
      },
      "file_extension": ".py",
      "mimetype": "text/x-python",
      "name": "python",
      "nbconvert_exporter": "python",
      "pygments_lexer": "ipython3",
      "version": "3.10.9"
    }
  },
  "nbformat": 4,
  "nbformat_minor": 0
}